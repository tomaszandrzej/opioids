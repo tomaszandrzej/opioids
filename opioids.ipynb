{
 "cells": [
  {
   "cell_type": "code",
   "execution_count": 1,
   "metadata": {},
   "outputs": [],
   "source": [
    "import pandas as pd\n",
    "import re"
   ]
  },
  {
   "cell_type": "code",
   "execution_count": 2,
   "metadata": {},
   "outputs": [],
   "source": [
    "patterns = {'regular':r'(?P<name>\\w+)\\s+(?P<form>[a-zA-Z]+)?\\s*(?P<dose_val>[0-9.]+)\\s*(?P<dose_uni>[a-z/]+)?\\s*(?P<freq>\\w+)',\n",
    "            'prn':r'(?P<name>\\w+)\\s+(?P<oral_dose>[0-9.-]+)?/(?P<subc_dose>[0-9.-]+)?\\s+(?P<oral_freq>[0-9a-bA-B]+)?/(?P<subc_freq>[0-9a-bA-B]+)?\\s+(?P<oral_max>\\d+)?/(?P<subc_max>\\d+)?',\n",
    "            'csci':r'(?P<name>[a-zA-Z]+)\\s*(?P<dose_val>\\d+)',\n",
    "           }\n",
    "\n",
    "frequencies = {'OD':1, 'BD':2, 'TDS':3, 'QDS':4}\n",
    "equivalents = {'morphine':1, 'oxycodone':2}"
   ]
  },
  {
   "cell_type": "code",
   "execution_count": 3,
   "metadata": {},
   "outputs": [],
   "source": [
    "def calculate_regular(data):\n",
    "    dose = float(data['dose_val'])\n",
    "    frequency = frequencies[data['freq'].upper()]\n",
    "    equivalent = equivalents[data['name'].lower()]\n",
    "    \n",
    "    return dose * frequency * equivalent    "
   ]
  },
  {
   "cell_type": "code",
   "execution_count": 4,
   "metadata": {},
   "outputs": [],
   "source": [
    "def calculate_prn(data):\n",
    "    oral_max = float(data['oral_max']) if data['oral_max'] != None else 0\n",
    "    subc_max = float(data['subc_max']) if data['subc_max'] != None else 0\n",
    "    \n",
    "    limit = oral_max if oral_max >= subc_max * 2 else subc_max * 2\n",
    "    equivalent = equivalents[data['name'].lower()]\n",
    "    \n",
    "    return limit * equivalent"
   ]
  },
  {
   "cell_type": "code",
   "execution_count": 5,
   "metadata": {},
   "outputs": [],
   "source": [
    "def calculate_csci(data):\n",
    "    equivalent = equivalents[data['name'].lower()]\n",
    "    dose = float(data['dose_val'])\n",
    "    \n",
    "    return dose * equivalent * 2"
   ]
  },
  {
   "cell_type": "code",
   "execution_count": 6,
   "metadata": {},
   "outputs": [],
   "source": [
    "calculate = {'regular':calculate_regular,\n",
    "             'prn':calculate_prn,\n",
    "             'csci':calculate_csci\n",
    "            }"
   ]
  },
  {
   "cell_type": "code",
   "execution_count": 7,
   "metadata": {},
   "outputs": [],
   "source": [
    "def equivalent(data):\n",
    "    \n",
    "    value = {}\n",
    "    errors = []\n",
    "    \n",
    "    for n in patterns.keys():\n",
    "        \n",
    "        pattern = patterns[n]\n",
    "        \n",
    "        try:\n",
    "            result = re.search(pattern, data[n]).groupdict()\n",
    "            value[n] = calculate[n](result)\n",
    "        except AttributeError:\n",
    "            if data[n].lower() == 'none':\n",
    "                value[n] = 0\n",
    "            else:\n",
    "                errors.append(n)\n",
    "    \n",
    "    if errors == []:\n",
    "        errors = 'none'\n",
    "    else:\n",
    "        errors = 'cannot read '+', '.join(errors)\n",
    "    \n",
    "    return pd.Series([sum(value.values()), errors], index=['morphine equivalent', 'errors'])"
   ]
  },
  {
   "cell_type": "code",
   "execution_count": 8,
   "metadata": {},
   "outputs": [],
   "source": [
    "data = {\n",
    "    1:{'regular':'Morphine MR 10mg BD','prn':'Morphine 2.5-5/1.25-2.5 1/1 20/10','csci':'none'},\n",
    "    2:{'regular':'none','prn':'Morphine /2.5-5 /1 /20', 'csci':'Morphine 20'},\n",
    "    3:{'regular':'Oxycodone MR 20mg BD', 'prn':'Oxycodone 5/2.5 2/1 40/20', 'csci':'none'},\n",
    "    4:{'regular':'Oxycodone MR 20 BD', 'prn':'Morphine 20/ 1/ 160/', 'csci':'Oxycodone 20'},\n",
    "    5:{'regular':'none', 'prn':'none', 'csci':'none'},\n",
    "    6:{'regular':'Oxycodone 5mg QDS', 'prn':'Morphine /', 'csci':'Oxycodone 20'},\n",
    "}\n",
    "df = pd.DataFrame(data).T[['regular','prn','csci']]"
   ]
  },
  {
   "cell_type": "code",
   "execution_count": 9,
   "metadata": {},
   "outputs": [],
   "source": [
    "result = pd.concat([df,df.apply(equivalent, axis=1)], axis=1)"
   ]
  },
  {
   "cell_type": "code",
   "execution_count": 10,
   "metadata": {},
   "outputs": [
    {
     "data": {
      "text/html": [
       "<div>\n",
       "<style scoped>\n",
       "    .dataframe tbody tr th:only-of-type {\n",
       "        vertical-align: middle;\n",
       "    }\n",
       "\n",
       "    .dataframe tbody tr th {\n",
       "        vertical-align: top;\n",
       "    }\n",
       "\n",
       "    .dataframe thead th {\n",
       "        text-align: right;\n",
       "    }\n",
       "</style>\n",
       "<table border=\"1\" class=\"dataframe\">\n",
       "  <thead>\n",
       "    <tr style=\"text-align: right;\">\n",
       "      <th></th>\n",
       "      <th>regular</th>\n",
       "      <th>prn</th>\n",
       "      <th>csci</th>\n",
       "      <th>morphine equivalent</th>\n",
       "      <th>errors</th>\n",
       "    </tr>\n",
       "  </thead>\n",
       "  <tbody>\n",
       "    <tr>\n",
       "      <th>1</th>\n",
       "      <td>Morphine MR 10mg BD</td>\n",
       "      <td>Morphine 2.5-5/1.25-2.5 1/1 20/10</td>\n",
       "      <td>none</td>\n",
       "      <td>40.0</td>\n",
       "      <td>none</td>\n",
       "    </tr>\n",
       "    <tr>\n",
       "      <th>2</th>\n",
       "      <td>none</td>\n",
       "      <td>Morphine /2.5-5 /1 /20</td>\n",
       "      <td>Morphine 20</td>\n",
       "      <td>80.0</td>\n",
       "      <td>none</td>\n",
       "    </tr>\n",
       "    <tr>\n",
       "      <th>3</th>\n",
       "      <td>Oxycodone MR 20mg BD</td>\n",
       "      <td>Oxycodone 5/2.5 2/1 40/20</td>\n",
       "      <td>none</td>\n",
       "      <td>160.0</td>\n",
       "      <td>none</td>\n",
       "    </tr>\n",
       "    <tr>\n",
       "      <th>4</th>\n",
       "      <td>Oxycodone MR 20 BD</td>\n",
       "      <td>Morphine 20/ 1/ 160/</td>\n",
       "      <td>Oxycodone 20</td>\n",
       "      <td>320.0</td>\n",
       "      <td>none</td>\n",
       "    </tr>\n",
       "    <tr>\n",
       "      <th>5</th>\n",
       "      <td>none</td>\n",
       "      <td>none</td>\n",
       "      <td>none</td>\n",
       "      <td>0.0</td>\n",
       "      <td>none</td>\n",
       "    </tr>\n",
       "    <tr>\n",
       "      <th>6</th>\n",
       "      <td>Oxycodone 5mg QDS</td>\n",
       "      <td>Morphine /</td>\n",
       "      <td>Oxycodone 20</td>\n",
       "      <td>120.0</td>\n",
       "      <td>cannot read prn</td>\n",
       "    </tr>\n",
       "  </tbody>\n",
       "</table>\n",
       "</div>"
      ],
      "text/plain": [
       "                regular                                prn          csci  \\\n",
       "1   Morphine MR 10mg BD  Morphine 2.5-5/1.25-2.5 1/1 20/10          none   \n",
       "2                  none             Morphine /2.5-5 /1 /20   Morphine 20   \n",
       "3  Oxycodone MR 20mg BD          Oxycodone 5/2.5 2/1 40/20          none   \n",
       "4    Oxycodone MR 20 BD               Morphine 20/ 1/ 160/  Oxycodone 20   \n",
       "5                  none                               none          none   \n",
       "6     Oxycodone 5mg QDS                         Morphine /  Oxycodone 20   \n",
       "\n",
       "   morphine equivalent           errors  \n",
       "1                 40.0             none  \n",
       "2                 80.0             none  \n",
       "3                160.0             none  \n",
       "4                320.0             none  \n",
       "5                  0.0             none  \n",
       "6                120.0  cannot read prn  "
      ]
     },
     "execution_count": 10,
     "metadata": {},
     "output_type": "execute_result"
    }
   ],
   "source": [
    "result"
   ]
  },
  {
   "cell_type": "code",
   "execution_count": 11,
   "metadata": {},
   "outputs": [
    {
     "data": {
      "text/plain": [
       "'(?P<name>\\\\w+)\\\\s+(?P<form>[a-zA-Z]+)?\\\\s*(?P<dose_val>[0-9.]+)\\\\s*(?P<dose_uni>[a-z/]+)?\\\\s*(?P<freq>\\\\w+)'"
      ]
     },
     "execution_count": 11,
     "metadata": {},
     "output_type": "execute_result"
    }
   ],
   "source": [
    "df.iloc[5]['regular']\n",
    "patterns['regular']"
   ]
  },
  {
   "cell_type": "code",
   "execution_count": 12,
   "metadata": {},
   "outputs": [
    {
     "data": {
      "text/plain": [
       "{'name': 'oxycodone',\n",
       " 'oral_dose': '2.5-5',\n",
       " 'subc_dose': '1.25-2.5',\n",
       " 'oral_freq': '1',\n",
       " 'subc_freq': '1',\n",
       " 'oral_max': '20',\n",
       " 'subc_max': '10'}"
      ]
     },
     "execution_count": 12,
     "metadata": {},
     "output_type": "execute_result"
    }
   ],
   "source": [
    "pat = r'(?P<name>\\w+)\\s+(?P<oral_dose>[0-9.-]+)?/(?P<subc_dose>[0-9.-]+)?\\s+(?P<oral_freq>[0-9a-bA-B]+)?/(?P<subc_freq>[0-9a-bA-B]+)?\\s+(?P<oral_max>\\d+)?/(?P<subc_max>\\d+)?'\n",
    "drug = 'oxycodone 2.5-5/1.25-2.5 1/1 20/10'\n",
    "re.search(pat, drug).groupdict()"
   ]
  },
  {
   "cell_type": "code",
   "execution_count": 18,
   "metadata": {},
   "outputs": [],
   "source": [
    "writer = pd.ExcelWriter('result.xlsx')"
   ]
  },
  {
   "cell_type": "code",
   "execution_count": 20,
   "metadata": {},
   "outputs": [],
   "source": [
    "result.to_excel('result.xlsx', 'sheet 1')"
   ]
  },
  {
   "cell_type": "code",
   "execution_count": null,
   "metadata": {},
   "outputs": [],
   "source": []
  }
 ],
 "metadata": {
  "kernelspec": {
   "display_name": "Python 3",
   "language": "python",
   "name": "python3"
  },
  "language_info": {
   "codemirror_mode": {
    "name": "ipython",
    "version": 3
   },
   "file_extension": ".py",
   "mimetype": "text/x-python",
   "name": "python",
   "nbconvert_exporter": "python",
   "pygments_lexer": "ipython3",
   "version": "3.7.3"
  }
 },
 "nbformat": 4,
 "nbformat_minor": 2
}
